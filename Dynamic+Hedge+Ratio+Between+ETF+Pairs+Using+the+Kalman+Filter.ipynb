{
 "cells": [
  {
   "cell_type": "code",
   "execution_count": 15,
   "metadata": {
    "collapsed": false
   },
   "outputs": [],
   "source": [
    "import pandas as pd\n",
    "import string\n",
    "import numpy as np\n",
    "import random\n",
    "import matplotlib.pyplot as plt \n",
    "import seaborn as sns\n",
    "from pandas.tools.plotting import scatter_matrix \n",
    "from scipy.stats import f_oneway, ttest_ind\n",
    "import warnings\n",
    "warnings.filterwarnings('ignore') \n",
    "from IPython.display import display\n",
    "import random; random.seed(0)\n",
    "import string\n",
    "import os\n",
    "import pandas_datareader.data as web\n",
    "from IPython.display import display\n",
    "# various options in pandas\n",
    "pd.set_option('display.max_columns', None)\n",
    "pd.set_option('display.max_rows', 25)\n",
    "pd.set_option('display.precision', 3)\n",
    "plt.rcParams['figure.figsize'] = (15, 8)\n",
    "path='/Users/aybarsatalay/Desktop/Python'\n",
    "os.chdir(path)\n",
    "%matplotlib inline\n",
    "import datetime\n",
    "import matplotlib.pyplot as plt\n",
    "import numpy as np\n",
    "import pandas as pd\n",
    "\n",
    "from pandas_datareader import data as pdr\n",
    "\n",
    "import fix_yahoo_finance as yf\n",
    "yf.pdr_override()\n",
    "\n"
   ]
  },
  {
   "cell_type": "code",
   "execution_count": 2,
   "metadata": {
    "collapsed": false
   },
   "outputs": [
    {
     "name": "stdout",
     "output_type": "stream",
     "text": [
      "[*********************100%***********************]  1 of 1 downloaded"
     ]
    }
   ],
   "source": [
    "start_date='2010-08-01'\n",
    "end_date='2016-08-01'\n",
    "etfs=['TLT','IEI']\n",
    "tlt=pdr.get_data_yahoo('TLT', start=start_date, end=end_date)\n",
    "#tlt=pdr.get_data_yahoo('TLT', start=start_date, end=end_date)\n",
    "iei=pdr.get_data_yahoo('IEI', start=start_date, end=end_date)"
   ]
  },
  {
   "cell_type": "code",
   "execution_count": 12,
   "metadata": {
    "collapsed": false
   },
   "outputs": [],
   "source": [
    "from __future__ import print_function\n",
    "\n",
    "import matplotlib.pyplot as plt\n",
    "import numpy as np\n",
    "import pandas as pd\n",
    "import pandas_datareader as pdr\n",
    "from pykalman import KalmanFilter\n",
    "\n",
    "\n",
    "def draw_date_coloured_scatterplot(etfs, prices):\n",
    "    \"\"\"\n",
    "    Create a scatterplot of the two ETF prices, which is\n",
    "    coloured by the date of the price to indicate the \n",
    "    changing relationship between the sets of prices    \n",
    "    \"\"\"\n",
    "    # Create a yellow-to-red colourmap where yellow indicates\n",
    "    # early dates and red indicates later dates\n",
    "    plen = len(prices)\n",
    "    colour_map = plt.cm.get_cmap('YlOrRd')\n",
    "    colours = np.linspace(0.1, 1, plen)\n",
    "    \n",
    "    # Create the scatterplot object\n",
    "    scatterplot = plt.scatter(\n",
    "        prices[etfs[0]], prices[etfs[1]],\n",
    "        s=30, c=colours, cmap=colour_map, \n",
    "        edgecolor='k', alpha=0.8\n",
    "    )\n",
    "    \n",
    "    # Add a colour bar for the date colouring and set the \n",
    "    # corresponding axis tick labels to equal string-formatted dates\n",
    "    colourbar = plt.colorbar(scatterplot)\n",
    "    colourbar.ax.set_yticklabels(\n",
    "        [str(p.date()) for p in prices[::plen//9].index]\n",
    "    )\n",
    "    plt.xlabel(prices.columns[0])\n",
    "    plt.ylabel(prices.columns[1])\n",
    "    plt.show()\n",
    "\n",
    "\n",
    "def calc_slope_intercept_kalman(etfs, prices):\n",
    "    \"\"\"\n",
    "    Utilise the Kalman Filter from the PyKalman package\n",
    "    to calculate the slope and intercept of the regressed\n",
    "    ETF prices.\n",
    "    \"\"\"\n",
    "    delta = 1e-5\n",
    "    trans_cov = delta / (1 - delta) * np.eye(2)\n",
    "    obs_mat = np.vstack(\n",
    "        [prices[etfs[0]], np.ones(prices[etfs[0]].shape)]\n",
    "    ).T[:, np.newaxis]\n",
    "    \n",
    "    kf = KalmanFilter(\n",
    "        n_dim_obs=1, \n",
    "        n_dim_state=2,\n",
    "        initial_state_mean=np.zeros(2),\n",
    "        initial_state_covariance=np.ones((2, 2)),\n",
    "        transition_matrices=np.eye(2),\n",
    "        observation_matrices=obs_mat,\n",
    "        observation_covariance=1.0,\n",
    "        transition_covariance=trans_cov\n",
    "    )\n",
    "    \n",
    "    state_means, state_covs = kf.filter(prices[etfs[1]].values)\n",
    "    return state_means, state_covs    \n",
    "    \n",
    "\n",
    "def draw_slope_intercept_changes(prices, state_means):\n",
    "    \"\"\"\n",
    "    Plot the slope and intercept changes from the \n",
    "    Kalman Filter calculated values.\n",
    "    \"\"\"\n",
    "    pd.DataFrame(\n",
    "        dict(\n",
    "            slope=state_means[:, 0], \n",
    "            intercept=state_means[:, 1]\n",
    "        ), index=prices.index\n",
    "    ).plot(subplots=True)\n",
    "    plt.show()\n"
   ]
  },
  {
   "cell_type": "code",
   "execution_count": 16,
   "metadata": {
    "collapsed": false
   },
   "outputs": [
    {
     "data": {
      "image/png": "[encoded data removed]",
      "text/plain": [
       "<matplotlib.figure.Figure at 0x1161fcb00>"
      ]
     },
     "metadata": {},
     "output_type": "display_data"
    }
   ],
   "source": [
    "prices = pd.DataFrame(index=tlt.index)\n",
    "prices['TLT'] = tlt[\"Adj Close\"]\n",
    "prices['IEI'] = iei[\"Adj Close\"]\n",
    "\n",
    "state_means, state_covs = calc_slope_intercept_kalman(etfs, prices)\n",
    "draw_slope_intercept_changes(prices, state_means)\n",
    "\n",
    "\n",
    "    "
   ]
  },
  {
   "cell_type": "code",
   "execution_count": 14,
   "metadata": {
    "collapsed": false
   },
   "outputs": [
    {
     "name": "stdout",
     "output_type": "stream",
     "text": [
      "[[1.30646833 1.30646833]\n",
      " [1.30563727 1.30568672]\n",
      " [1.30741689 1.30717695]\n",
      " ...\n",
      " [0.91179734 1.3968539 ]\n",
      " [0.90899643 1.39696987]\n",
      " [0.91012218 1.39698977]]\n"
     ]
    }
   ],
   "source": [
    "print (state_means)"
   ]
  },
  {
   "cell_type": "code",
   "execution_count": null,
   "metadata": {
    "collapsed": true
   },
   "outputs": [],
   "source": []
  }
 ],
 "metadata": {
  "kernelspec": {
   "display_name": "Python 3",
   "language": "python",
   "name": "python3"
  },
  "language_info": {
   "codemirror_mode": {
    "name": "ipython",
    "version": 3
   },
   "file_extension": ".py",
   "mimetype": "text/x-python",
   "name": "python",
   "nbconvert_exporter": "python",
   "pygments_lexer": "ipython3",
   "version": "3.6.0"
  }
 },
 "nbformat": 4,
 "nbformat_minor": 2
}
